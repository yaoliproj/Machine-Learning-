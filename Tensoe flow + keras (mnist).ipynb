{
 "cells": [
  {
   "cell_type": "markdown",
   "metadata": {},
   "source": [
    "## Tensoe flow + keras (mnist)"
   ]
  },
  {
   "cell_type": "code",
   "execution_count": 10,
   "metadata": {},
   "outputs": [
    {
     "name": "stderr",
     "output_type": "stream",
     "text": [
      "/anaconda3/lib/python3.6/site-packages/sklearn/grid_search.py:42: DeprecationWarning: This module was deprecated in version 0.18 in favor of the model_selection module into which all the refactored classes and functions are moved. This module will be removed in 0.20.\n",
      "  DeprecationWarning)\n"
     ]
    }
   ],
   "source": [
    "import numpy as np\n",
    "import matplotlib\n",
    "matplotlib.use('Agg')\n",
    "import matplotlib.pyplot as plt\n",
    "np.set_printoptions(precision=3, suppress=True)\n",
    "import pandas as pd\n",
    "from sklearn.cross_validation import train_test_split\n",
    "import tensorflow as tf\n",
    "from keras.datasets import mnist\n",
    "import keras\n",
    "from keras.models import Sequential\n",
    "from keras.layers import Dense, Activation\n",
    "from keras.wrappers.scikit_learn import KerasClassifier, KerasRegressor\n",
    "from sklearn.grid_search import GridSearchCV"
   ]
  },
  {
   "cell_type": "code",
   "execution_count": 4,
   "metadata": {},
   "outputs": [
    {
     "name": "stdout",
     "output_type": "stream",
     "text": [
      "Downloading data from https://s3.amazonaws.com/img-datasets/mnist.npz\n",
      "11493376/11490434 [==============================] - 1s 0us/step\n"
     ]
    }
   ],
   "source": [
    "\n",
    "seed = 7\n",
    "np.random.seed(seed)\n",
    "\n",
    "##### load data #####\n",
    "\n",
    "(X_train, y_train), (X_test, y_test) = mnist.load_data()\n"
   ]
  },
  {
   "cell_type": "code",
   "execution_count": 5,
   "metadata": {},
   "outputs": [
    {
     "name": "stdout",
     "output_type": "stream",
     "text": [
      "60000 train samples\n",
      "10000 test samples\n"
     ]
    }
   ],
   "source": [
    "X_train = X_train.reshape(60000, 784)\n",
    "X_test = X_test.reshape(10000, 784)\n",
    "X_train = X_train.astype('float32')\n",
    "X_test = X_test.astype('float32')\n",
    "X_train /= 255\n",
    "X_test /= 255\n",
    "print(X_train.shape[0], 'train samples')\n",
    "print(X_test.shape[0], 'test samples')\n",
    "\n",
    "num_classes = 10\n",
    "\n"
   ]
  },
  {
   "cell_type": "code",
   "execution_count": 6,
   "metadata": {},
   "outputs": [],
   "source": [
    "# convert class vectors to binary class matrices\n",
    "y_train = keras.utils.to_categorical(y_train, num_classes)\n",
    "y_test = keras.utils.to_categorical(y_test, num_classes)"
   ]
  },
  {
   "cell_type": "code",
   "execution_count": 7,
   "metadata": {},
   "outputs": [
    {
     "data": {
      "text/plain": [
       "(60000, 784)"
      ]
     },
     "execution_count": 7,
     "metadata": {},
     "output_type": "execute_result"
    }
   ],
   "source": [
    "X_train.shape"
   ]
  },
  {
   "cell_type": "code",
   "execution_count": 11,
   "metadata": {},
   "outputs": [],
   "source": [
    "def make_model(optimizer=\"adam\", hidden_size=32):\n",
    "    model = Sequential([\n",
    "        Dense(hidden_size, input_shape=(784,),activation='relu'),\n",
    "        Dense(10, activation='softmax'),\n",
    "    ])\n",
    "    model.compile(optimizer=optimizer, loss=\"categorical_crossentropy\", metrics=['accuracy'])\n",
    "    return model\n",
    "\n",
    "clf = KerasClassifier(make_model)\n",
    "\n",
    "param_grid = {'hidden_size': [32, 64, 128, 256]}\n",
    "\n",
    "grid = GridSearchCV(clf, param_grid=param_grid, cv=5)"
   ]
  },
  {
   "cell_type": "code",
   "execution_count": 12,
   "metadata": {},
   "outputs": [
    {
     "name": "stdout",
     "output_type": "stream",
     "text": [
      "Epoch 1/1\n",
      "48000/48000 [==============================] - 3s 52us/step - loss: 0.3945 - acc: 0.8885\n",
      "12000/12000 [==============================] - 0s 24us/step\n",
      "Epoch 1/1\n",
      "48000/48000 [==============================] - 2s 45us/step - loss: 0.3886 - acc: 0.8913\n",
      "12000/12000 [==============================] - 0s 22us/step\n",
      "Epoch 1/1\n",
      "48000/48000 [==============================] - 2s 46us/step - loss: 0.3968 - acc: 0.8895\n",
      "12000/12000 [==============================] - 1s 42us/step\n",
      "Epoch 1/1\n",
      "48000/48000 [==============================] - 3s 53us/step - loss: 0.3847 - acc: 0.8935\n",
      "12000/12000 [==============================] - 0s 27us/step\n",
      "Epoch 1/1\n",
      "48000/48000 [==============================] - 3s 54us/step - loss: 0.3707 - acc: 0.8965\n",
      "12000/12000 [==============================] - 0s 25us/step\n",
      "Epoch 1/1\n",
      "48000/48000 [==============================] - 3s 56us/step - loss: 0.3285 - acc: 0.9069\n",
      "12000/12000 [==============================] - 0s 26us/step\n",
      "Epoch 1/1\n",
      "48000/48000 [==============================] - 3s 61us/step - loss: 0.3244 - acc: 0.9092\n",
      "12000/12000 [==============================] - 0s 30us/step\n",
      "Epoch 1/1\n",
      "48000/48000 [==============================] - 3s 68us/step - loss: 0.3248 - acc: 0.9100\n",
      "12000/12000 [==============================] - 0s 29us/step\n",
      "Epoch 1/1\n",
      "48000/48000 [==============================] - 3s 57us/step - loss: 0.3285 - acc: 0.9095\n",
      "12000/12000 [==============================] - 0s 31us/step\n",
      "Epoch 1/1\n",
      "48000/48000 [==============================] - 3s 61us/step - loss: 0.3270 - acc: 0.9092\n",
      "12000/12000 [==============================] - 0s 39us/step\n",
      "Epoch 1/1\n",
      "48000/48000 [==============================] - 3s 68us/step - loss: 0.2897 - acc: 0.9171\n",
      "12000/12000 [==============================] - 0s 34us/step\n",
      "Epoch 1/1\n",
      "48000/48000 [==============================] - 4s 77us/step - loss: 0.2881 - acc: 0.9160\n",
      "12000/12000 [==============================] - 0s 34us/step\n",
      "Epoch 1/1\n",
      "48000/48000 [==============================] - 3s 72us/step - loss: 0.2865 - acc: 0.9186\n",
      "12000/12000 [==============================] - 0s 36us/step\n",
      "Epoch 1/1\n",
      "48000/48000 [==============================] - 4s 78us/step - loss: 0.2816 - acc: 0.9201\n",
      "12000/12000 [==============================] - 0s 35us/step\n",
      "Epoch 1/1\n",
      "48000/48000 [==============================] - 3s 72us/step - loss: 0.2863 - acc: 0.9183\n",
      "12000/12000 [==============================] - 0s 40us/step\n",
      "Epoch 1/1\n",
      "48000/48000 [==============================] - 5s 102us/step - loss: 0.2556 - acc: 0.9254\n",
      "12000/12000 [==============================] - 1s 56us/step\n",
      "Epoch 1/1\n",
      "48000/48000 [==============================] - 5s 109us/step - loss: 0.2461 - acc: 0.9286\n",
      "12000/12000 [==============================] - 1s 52us/step\n",
      "Epoch 1/1\n",
      "48000/48000 [==============================] - 5s 108us/step - loss: 0.2496 - acc: 0.9280\n",
      "12000/12000 [==============================] - 1s 46us/step\n",
      "Epoch 1/1\n",
      "48000/48000 [==============================] - 5s 104us/step - loss: 0.2421 - acc: 0.9310\n",
      "12000/12000 [==============================] - 1s 45us/step\n",
      "Epoch 1/1\n",
      "48000/48000 [==============================] - 5s 113us/step - loss: 0.2514 - acc: 0.9269\n",
      "12000/12000 [==============================] - 1s 74us/step\n",
      "Epoch 1/1\n",
      "60000/60000 [==============================] - 6s 108us/step - loss: 0.2239 - acc: 0.9354\n"
     ]
    }
   ],
   "source": [
    "grid.fit(X_train, y_train)\n",
    "\n",
    "best_param = grid.best_params_['hidden_size']"
   ]
  },
  {
   "cell_type": "code",
   "execution_count": 13,
   "metadata": {},
   "outputs": [],
   "source": [
    "### run vanilla model with best parameters #####\n",
    "model_vanilla = Sequential([\n",
    "    Dense(grid.best_params_['hidden_size'], input_shape=(784,), activation='relu'),\n",
    "    Dense(10, activation='softmax'),\n",
    "])\n",
    "model_vanilla.compile(\"adam\", \"categorical_crossentropy\", metrics=['accuracy'])\n"
   ]
  },
  {
   "cell_type": "code",
   "execution_count": 20,
   "metadata": {},
   "outputs": [
    {
     "name": "stdout",
     "output_type": "stream",
     "text": [
      "Train on 54000 samples, validate on 6000 samples\n",
      "Epoch 1/30\n",
      "54000/54000 [==============================] - 4s 75us/step - loss: 0.3289 - acc: 0.9078 - val_loss: 0.1431 - val_acc: 0.9598\n",
      "Epoch 2/30\n",
      "54000/54000 [==============================] - 2s 36us/step - loss: 0.1431 - acc: 0.9584 - val_loss: 0.1047 - val_acc: 0.9732\n",
      "Epoch 3/30\n",
      "54000/54000 [==============================] - 2s 37us/step - loss: 0.0976 - acc: 0.9722 - val_loss: 0.0897 - val_acc: 0.9762\n",
      "Epoch 4/30\n",
      "54000/54000 [==============================] - 2s 43us/step - loss: 0.0718 - acc: 0.9790 - val_loss: 0.0802 - val_acc: 0.9775\n",
      "Epoch 5/30\n",
      "54000/54000 [==============================] - 2s 37us/step - loss: 0.0559 - acc: 0.9840 - val_loss: 0.0727 - val_acc: 0.9773\n",
      "Epoch 6/30\n",
      "54000/54000 [==============================] - 2s 45us/step - loss: 0.0434 - acc: 0.9878 - val_loss: 0.0763 - val_acc: 0.9780\n",
      "Epoch 7/30\n",
      "54000/54000 [==============================] - 2s 38us/step - loss: 0.0356 - acc: 0.9903 - val_loss: 0.0704 - val_acc: 0.9798\n",
      "Epoch 8/30\n",
      "54000/54000 [==============================] - 2s 46us/step - loss: 0.0274 - acc: 0.9931 - val_loss: 0.0654 - val_acc: 0.9807\n",
      "Epoch 9/30\n",
      "54000/54000 [==============================] - 2s 37us/step - loss: 0.0231 - acc: 0.9939 - val_loss: 0.0685 - val_acc: 0.9818\n",
      "Epoch 10/30\n",
      "54000/54000 [==============================] - 2s 40us/step - loss: 0.0179 - acc: 0.9958 - val_loss: 0.0656 - val_acc: 0.9817\n",
      "Epoch 11/30\n",
      "54000/54000 [==============================] - 2s 36us/step - loss: 0.0145 - acc: 0.9964 - val_loss: 0.0655 - val_acc: 0.9825\n",
      "Epoch 12/30\n",
      "54000/54000 [==============================] - 2s 39us/step - loss: 0.0108 - acc: 0.9980 - val_loss: 0.0738 - val_acc: 0.9812\n",
      "Epoch 13/30\n",
      "54000/54000 [==============================] - 2s 37us/step - loss: 0.0093 - acc: 0.9982 - val_loss: 0.0685 - val_acc: 0.9815\n",
      "Epoch 14/30\n",
      "54000/54000 [==============================] - 2s 36us/step - loss: 0.0074 - acc: 0.9986 - val_loss: 0.0740 - val_acc: 0.9830\n",
      "Epoch 15/30\n",
      "54000/54000 [==============================] - 2s 36us/step - loss: 0.0074 - acc: 0.9986 - val_loss: 0.0734 - val_acc: 0.9825\n",
      "Epoch 16/30\n",
      "54000/54000 [==============================] - 2s 36us/step - loss: 0.0080 - acc: 0.9981 - val_loss: 0.0690 - val_acc: 0.9840\n",
      "Epoch 17/30\n",
      "54000/54000 [==============================] - 2s 40us/step - loss: 0.0049 - acc: 0.9993 - val_loss: 0.0722 - val_acc: 0.9820\n",
      "Epoch 18/30\n",
      "54000/54000 [==============================] - 2s 38us/step - loss: 0.0028 - acc: 0.9997 - val_loss: 0.0726 - val_acc: 0.9837\n",
      "Epoch 19/30\n",
      "54000/54000 [==============================] - 2s 42us/step - loss: 0.0019 - acc: 0.9999 - val_loss: 0.0707 - val_acc: 0.9833\n",
      "Epoch 20/30\n",
      "54000/54000 [==============================] - 2s 40us/step - loss: 0.0016 - acc: 0.9998 - val_loss: 0.0762 - val_acc: 0.9822\n",
      "Epoch 21/30\n",
      "54000/54000 [==============================] - 2s 39us/step - loss: 0.0154 - acc: 0.9948 - val_loss: 0.0815 - val_acc: 0.9825\n",
      "Epoch 22/30\n",
      "54000/54000 [==============================] - 2s 39us/step - loss: 0.0032 - acc: 0.9994 - val_loss: 0.0799 - val_acc: 0.9832\n",
      "Epoch 23/30\n",
      "54000/54000 [==============================] - 2s 42us/step - loss: 0.0015 - acc: 0.9999 - val_loss: 0.0771 - val_acc: 0.9843\n",
      "Epoch 24/30\n",
      "54000/54000 [==============================] - 2s 40us/step - loss: 6.9672e-04 - acc: 1.0000 - val_loss: 0.0749 - val_acc: 0.9835\n",
      "Epoch 25/30\n",
      "54000/54000 [==============================] - 2s 38us/step - loss: 5.2888e-04 - acc: 1.0000 - val_loss: 0.0767 - val_acc: 0.9835\n",
      "Epoch 26/30\n",
      "54000/54000 [==============================] - 2s 36us/step - loss: 4.1753e-04 - acc: 1.0000 - val_loss: 0.0771 - val_acc: 0.9842\n",
      "Epoch 27/30\n",
      "54000/54000 [==============================] - 2s 36us/step - loss: 3.8794e-04 - acc: 1.0000 - val_loss: 0.0779 - val_acc: 0.9845\n",
      "Epoch 28/30\n",
      "54000/54000 [==============================] - 2s 35us/step - loss: 3.1763e-04 - acc: 1.0000 - val_loss: 0.0779 - val_acc: 0.9838\n",
      "Epoch 29/30\n",
      "54000/54000 [==============================] - 2s 35us/step - loss: 2.7789e-04 - acc: 1.0000 - val_loss: 0.0786 - val_acc: 0.9837\n",
      "Epoch 30/30\n",
      "54000/54000 [==============================] - 2s 36us/step - loss: 0.0128 - acc: 0.9959 - val_loss: 0.0960 - val_acc: 0.9800\n"
     ]
    }
   ],
   "source": [
    "history_callback_vanilla = model_vanilla.fit(X_train, y_train, batch_size=128,\n",
    "                             epochs=30, verbose=1, validation_split=.1)"
   ]
  },
  {
   "cell_type": "code",
   "execution_count": 14,
   "metadata": {},
   "outputs": [
    {
     "name": "stdout",
     "output_type": "stream",
     "text": [
      "Epoch 1/1\n",
      "48000/48000 [==============================] - 5s 113us/step - loss: 0.2645 - acc: 0.9227\n",
      "12000/12000 [==============================] - 1s 51us/step\n",
      "Epoch 1/1\n",
      "48000/48000 [==============================] - 6s 124us/step - loss: 0.2584 - acc: 0.9248\n",
      "12000/12000 [==============================] - 1s 60us/step\n",
      "Epoch 1/1\n",
      "48000/48000 [==============================] - 5s 111us/step - loss: 0.2597 - acc: 0.9248\n",
      "12000/12000 [==============================] - 1s 54us/step\n",
      "Epoch 1/1\n",
      "48000/48000 [==============================] - 6s 125us/step - loss: 0.2590 - acc: 0.9240\n",
      "12000/12000 [==============================] - 1s 57us/step\n",
      "Epoch 1/1\n",
      "48000/48000 [==============================] - 5s 112us/step - loss: 0.2656 - acc: 0.9224\n",
      "12000/12000 [==============================] - 1s 56us/step\n",
      "Epoch 1/1\n",
      "48000/48000 [==============================] - 6s 131us/step - loss: 0.2908 - acc: 0.9144\n",
      "12000/12000 [==============================] - 1s 81us/step\n",
      "Epoch 1/1\n",
      "48000/48000 [==============================] - 6s 119us/step - loss: 0.2882 - acc: 0.9144\n",
      "12000/12000 [==============================] - 1s 78us/step\n",
      "Epoch 1/1\n",
      "48000/48000 [==============================] - 6s 124us/step - loss: 0.2957 - acc: 0.9127\n",
      "12000/12000 [==============================] - 1s 61us/step\n",
      "Epoch 1/1\n",
      "48000/48000 [==============================] - 7s 138us/step - loss: 0.2910 - acc: 0.9142\n",
      "12000/12000 [==============================] - 1s 71us/step\n",
      "Epoch 1/1\n",
      "48000/48000 [==============================] - 6s 133us/step - loss: 0.2931 - acc: 0.9143\n",
      "12000/12000 [==============================] - 1s 77us/step\n",
      "Epoch 1/1\n",
      "48000/48000 [==============================] - 6s 122us/step - loss: 0.3484 - acc: 0.8977\n",
      "12000/12000 [==============================] - 1s 67us/step\n",
      "Epoch 1/1\n",
      "48000/48000 [==============================] - 7s 137us/step - loss: 0.3415 - acc: 0.8979\n",
      "12000/12000 [==============================] - 1s 64us/step\n",
      "Epoch 1/1\n",
      "48000/48000 [==============================] - 7s 138us/step - loss: 0.3396 - acc: 0.8989\n",
      "12000/12000 [==============================] - 1s 75us/step\n",
      "Epoch 1/1\n",
      "48000/48000 [==============================] - 7s 146us/step - loss: 0.3421 - acc: 0.8986\n",
      "12000/12000 [==============================] - 1s 65us/step\n",
      "Epoch 1/1\n",
      "48000/48000 [==============================] - 7s 139us/step - loss: 0.3461 - acc: 0.8976\n",
      "12000/12000 [==============================] - 1s 81us/step\n",
      "Epoch 1/1\n",
      "48000/48000 [==============================] - 7s 138us/step - loss: 0.3886 - acc: 0.8824\n",
      "12000/12000 [==============================] - 1s 72us/step\n",
      "Epoch 1/1\n",
      "48000/48000 [==============================] - 6s 133us/step - loss: 0.3840 - acc: 0.8856\n",
      "12000/12000 [==============================] - 1s 77us/step\n",
      "Epoch 1/1\n",
      "48000/48000 [==============================] - 7s 146us/step - loss: 0.3899 - acc: 0.8837\n",
      "12000/12000 [==============================] - 1s 73us/step\n",
      "Epoch 1/1\n",
      "48000/48000 [==============================] - 7s 136us/step - loss: 0.3847 - acc: 0.8844\n",
      "12000/12000 [==============================] - 1s 75us/step\n",
      "Epoch 1/1\n",
      "48000/48000 [==============================] - 7s 145us/step - loss: 0.3917 - acc: 0.8815\n",
      "12000/12000 [==============================] - 1s 75us/step\n",
      "Epoch 1/1\n",
      "48000/48000 [==============================] - 7s 148us/step - loss: 0.5799 - acc: 0.8180\n",
      "12000/12000 [==============================] - 1s 76us/step\n",
      "Epoch 1/1\n",
      "48000/48000 [==============================] - 7s 149us/step - loss: 0.5780 - acc: 0.8217\n",
      "12000/12000 [==============================] - 1s 77us/step\n",
      "Epoch 1/1\n",
      "48000/48000 [==============================] - 7s 148us/step - loss: 0.5778 - acc: 0.8210\n",
      "12000/12000 [==============================] - 1s 80us/step\n",
      "Epoch 1/1\n",
      "48000/48000 [==============================] - 7s 146us/step - loss: 0.5736 - acc: 0.8239\n",
      "12000/12000 [==============================] - 1s 87us/step\n",
      "Epoch 1/1\n",
      "48000/48000 [==============================] - 7s 146us/step - loss: 0.5797 - acc: 0.8183\n",
      "12000/12000 [==============================] - 1s 99us/step\n",
      "Epoch 1/1\n",
      "60000/60000 [==============================] - 8s 133us/step - loss: 0.2680 - acc: 0.9217\n"
     ]
    },
    {
     "data": {
      "text/plain": [
       "GridSearchCV(cv=5, error_score='raise',\n",
       "       estimator=<keras.wrappers.scikit_learn.KerasClassifier object at 0x12c9e2c50>,\n",
       "       fit_params={}, iid=True, n_jobs=1,\n",
       "       param_grid={'drop_param': [0.1, 0.3, 0.5, 0.6, 0.8]},\n",
       "       pre_dispatch='2*n_jobs', refit=True, scoring=None, verbose=0)"
      ]
     },
     "execution_count": 14,
     "metadata": {},
     "output_type": "execute_result"
    }
   ],
   "source": [
    "## model selection for the dropout model #####\n",
    "from keras.layers import Dropout\n",
    "\n",
    "def drop_model(optimizer=\"adam\", drop_param=0.5):\n",
    "    model = Sequential([\n",
    "        Dense(best_param, input_shape=(784,),activation='relu'),\n",
    "        Dropout(drop_param),\n",
    "        Dense(10, activation='softmax'),\n",
    "    ])\n",
    "    model.compile(optimizer=optimizer, loss=\"categorical_crossentropy\", metrics=['accuracy'])\n",
    "    return model\n",
    "\n",
    "clf = KerasClassifier(drop_model)\n",
    "\n",
    "param_grid = {'drop_param': [0.1, 0.3, 0.5, 0.6, 0.8]}\n",
    "\n",
    "grid = GridSearchCV(clf, param_grid=param_grid, cv=5)\n",
    "grid.fit(X_train, y_train)\n"
   ]
  },
  {
   "cell_type": "code",
   "execution_count": 15,
   "metadata": {},
   "outputs": [],
   "source": [
    "### run dropout model with best parameters #####\n",
    "model_dropout = Sequential([\n",
    "    Dense(best_param, input_shape=(784,), activation='relu'),\n",
    "    Dropout(grid.best_params_['drop_param']),\n",
    "    Dense(10, activation='softmax'),\n",
    "])\n",
    "model_dropout.compile(\"adam\", \"categorical_crossentropy\", metrics=['accuracy'])"
   ]
  },
  {
   "cell_type": "code",
   "execution_count": 24,
   "metadata": {},
   "outputs": [
    {
     "name": "stdout",
     "output_type": "stream",
     "text": [
      "Train on 54000 samples, validate on 6000 samples\n",
      "Epoch 1/30\n",
      "54000/54000 [==============================] - 2s 44us/step - loss: 0.0131 - acc: 0.9955 - val_loss: 0.0736 - val_acc: 0.9835\n",
      "Epoch 2/30\n",
      "54000/54000 [==============================] - 2s 42us/step - loss: 0.0135 - acc: 0.9951 - val_loss: 0.0700 - val_acc: 0.9852\n",
      "Epoch 3/30\n",
      "54000/54000 [==============================] - 2s 38us/step - loss: 0.0121 - acc: 0.9963 - val_loss: 0.0677 - val_acc: 0.9855\n",
      "Epoch 4/30\n",
      "54000/54000 [==============================] - 2s 38us/step - loss: 0.0127 - acc: 0.9957 - val_loss: 0.0755 - val_acc: 0.9852\n",
      "Epoch 5/30\n",
      "54000/54000 [==============================] - 2s 38us/step - loss: 0.0110 - acc: 0.9962 - val_loss: 0.0690 - val_acc: 0.9847\n",
      "Epoch 6/30\n",
      "54000/54000 [==============================] - 2s 38us/step - loss: 0.0122 - acc: 0.9959 - val_loss: 0.0701 - val_acc: 0.9852\n",
      "Epoch 7/30\n",
      "54000/54000 [==============================] - 2s 38us/step - loss: 0.0105 - acc: 0.9965 - val_loss: 0.0735 - val_acc: 0.9855\n",
      "Epoch 8/30\n",
      "54000/54000 [==============================] - 2s 38us/step - loss: 0.0129 - acc: 0.9955 - val_loss: 0.0685 - val_acc: 0.9857\n",
      "Epoch 9/30\n",
      "54000/54000 [==============================] - 2s 38us/step - loss: 0.0119 - acc: 0.9962 - val_loss: 0.0731 - val_acc: 0.9842\n",
      "Epoch 10/30\n",
      "54000/54000 [==============================] - 2s 39us/step - loss: 0.0111 - acc: 0.9963 - val_loss: 0.0710 - val_acc: 0.9845\n",
      "Epoch 11/30\n",
      "54000/54000 [==============================] - 2s 39us/step - loss: 0.0107 - acc: 0.9964 - val_loss: 0.0715 - val_acc: 0.9855\n",
      "Epoch 12/30\n",
      "54000/54000 [==============================] - 2s 39us/step - loss: 0.0104 - acc: 0.9962 - val_loss: 0.0708 - val_acc: 0.9853\n",
      "Epoch 13/30\n",
      "54000/54000 [==============================] - 2s 39us/step - loss: 0.0091 - acc: 0.9968 - val_loss: 0.0705 - val_acc: 0.9850\n",
      "Epoch 14/30\n",
      "54000/54000 [==============================] - 2s 39us/step - loss: 0.0091 - acc: 0.9969 - val_loss: 0.0741 - val_acc: 0.9840\n",
      "Epoch 15/30\n",
      "54000/54000 [==============================] - 2s 39us/step - loss: 0.0100 - acc: 0.9969 - val_loss: 0.0749 - val_acc: 0.9857\n",
      "Epoch 16/30\n",
      "54000/54000 [==============================] - 2s 39us/step - loss: 0.0105 - acc: 0.9963 - val_loss: 0.0756 - val_acc: 0.9845\n",
      "Epoch 17/30\n",
      "54000/54000 [==============================] - 2s 39us/step - loss: 0.0097 - acc: 0.9964 - val_loss: 0.0743 - val_acc: 0.9852\n",
      "Epoch 18/30\n",
      "54000/54000 [==============================] - 2s 39us/step - loss: 0.0097 - acc: 0.9966 - val_loss: 0.0724 - val_acc: 0.9860\n",
      "Epoch 19/30\n",
      "54000/54000 [==============================] - 2s 39us/step - loss: 0.0097 - acc: 0.9965 - val_loss: 0.0763 - val_acc: 0.9848\n",
      "Epoch 20/30\n",
      "54000/54000 [==============================] - 2s 40us/step - loss: 0.0082 - acc: 0.9973 - val_loss: 0.0770 - val_acc: 0.9853\n",
      "Epoch 21/30\n",
      "54000/54000 [==============================] - 2s 39us/step - loss: 0.0084 - acc: 0.9972 - val_loss: 0.0793 - val_acc: 0.9847\n",
      "Epoch 22/30\n",
      "54000/54000 [==============================] - 2s 40us/step - loss: 0.0088 - acc: 0.9967 - val_loss: 0.0797 - val_acc: 0.9848\n",
      "Epoch 23/30\n",
      "54000/54000 [==============================] - 2s 40us/step - loss: 0.0089 - acc: 0.9969 - val_loss: 0.0791 - val_acc: 0.9843\n",
      "Epoch 24/30\n",
      "54000/54000 [==============================] - 2s 39us/step - loss: 0.0083 - acc: 0.9971 - val_loss: 0.0771 - val_acc: 0.9860\n",
      "Epoch 25/30\n",
      "54000/54000 [==============================] - 2s 39us/step - loss: 0.0081 - acc: 0.9973 - val_loss: 0.0759 - val_acc: 0.9858\n",
      "Epoch 26/30\n",
      "54000/54000 [==============================] - 2s 39us/step - loss: 0.0093 - acc: 0.9966 - val_loss: 0.0769 - val_acc: 0.9857\n",
      "Epoch 27/30\n",
      "54000/54000 [==============================] - 2s 40us/step - loss: 0.0085 - acc: 0.9969 - val_loss: 0.0771 - val_acc: 0.9837\n",
      "Epoch 28/30\n",
      "54000/54000 [==============================] - 2s 40us/step - loss: 0.0081 - acc: 0.9972 - val_loss: 0.0827 - val_acc: 0.9843\n",
      "Epoch 29/30\n",
      "54000/54000 [==============================] - 2s 45us/step - loss: 0.0073 - acc: 0.9976 - val_loss: 0.0841 - val_acc: 0.9855\n",
      "Epoch 30/30\n",
      "54000/54000 [==============================] - 2s 41us/step - loss: 0.0084 - acc: 0.9970 - val_loss: 0.0817 - val_acc: 0.9855\n"
     ]
    }
   ],
   "source": [
    "history_callback_dropout = model_dropout.fit(X_train, y_train, batch_size=128,\n",
    "                             epochs=30, verbose=1, validation_split=.1)\n"
   ]
  },
  {
   "cell_type": "code",
   "execution_count": 17,
   "metadata": {},
   "outputs": [],
   "source": [
    "##### learning curve #####\n",
    "def plot_history(logger):\n",
    "    df = pd.DataFrame(logger.history)\n",
    "    df[['acc', 'val_acc']].plot()\n",
    "    plt.ylabel(\"accuracy\")\n",
    "    df[['loss', 'val_loss']].plot(linestyle='--', ax=plt.twinx())\n",
    "    plt.ylabel(\"loss\")"
   ]
  },
  {
   "cell_type": "code",
   "execution_count": 29,
   "metadata": {},
   "outputs": [],
   "source": [
    "df = pd.DataFrame(history_callback_vanilla.history)\n",
    "df[['acc', 'val_acc']].plot()\n",
    "plt.ylabel(\"accuracy\")\n",
    "df[['loss', 'val_loss']].plot(linestyle='--', ax=plt.twinx())\n",
    "plt.ylabel(\"loss\")\n",
    "plt.savefig(\"vanilla.png\")"
   ]
  },
  {
   "cell_type": "code",
   "execution_count": 25,
   "metadata": {},
   "outputs": [],
   "source": [
    "df = pd.DataFrame(history_callback_dropout.history)\n",
    "df[['acc', 'val_acc']].plot()\n",
    "plt.ylabel(\"accuracy\")\n",
    "df[['loss', 'val_loss']].plot(linestyle='--', ax=plt.twinx())\n",
    "plt.ylabel(\"loss\")\n",
    "plt.savefig(\"dropout.png\")"
   ]
  },
  {
   "cell_type": "code",
   "execution_count": 26,
   "metadata": {},
   "outputs": [
    {
     "name": "stdout",
     "output_type": "stream",
     "text": [
      "_________________________________________________________________\n",
      "Layer (type)                 Output Shape              Param #   \n",
      "=================================================================\n",
      "dense_43 (Dense)             (None, 256)               200960    \n",
      "_________________________________________________________________\n",
      "dense_44 (Dense)             (None, 10)                2570      \n",
      "=================================================================\n",
      "Total params: 203,530\n",
      "Trainable params: 203,530\n",
      "Non-trainable params: 0\n",
      "_________________________________________________________________\n",
      "_________________________________________________________________\n",
      "Layer (type)                 Output Shape              Param #   \n",
      "=================================================================\n",
      "dense_97 (Dense)             (None, 256)               200960    \n",
      "_________________________________________________________________\n",
      "dropout_27 (Dropout)         (None, 256)               0         \n",
      "_________________________________________________________________\n",
      "dense_98 (Dense)             (None, 10)                2570      \n",
      "=================================================================\n",
      "Total params: 203,530\n",
      "Trainable params: 203,530\n",
      "Non-trainable params: 0\n",
      "_________________________________________________________________\n"
     ]
    }
   ],
   "source": [
    "model_vanilla.summary()\n",
    "model_dropout.summary()"
   ]
  },
  {
   "cell_type": "code",
   "execution_count": 27,
   "metadata": {},
   "outputs": [
    {
     "name": "stdout",
     "output_type": "stream",
     "text": [
      "------- Vanilla Model -------\n",
      "Test loss: 0.109\n",
      "Test Accuracy: 0.976\n",
      "------- Dropout Model -------\n",
      "Test loss: 0.079\n",
      "Test Accuracy: 0.984\n"
     ]
    }
   ],
   "source": [
    "##### evaluation and compare #####\n",
    "score_vanilla = model_vanilla.evaluate(X_test, y_test, verbose=0)\n",
    "print(\"------- Vanilla Model -------\")\n",
    "print(\"Test loss: {:.3f}\".format(score_vanilla[0]))\n",
    "print(\"Test Accuracy: {:.3f}\".format(score_vanilla[1]))\n",
    "\n",
    "score_dropout = model_dropout.evaluate(X_test, y_test, verbose=0)\n",
    "print(\"------- Dropout Model -------\")\n",
    "print(\"Test loss: {:.3f}\".format(score_dropout[0]))\n",
    "print(\"Test Accuracy: {:.3f}\".format(score_dropout[1]))"
   ]
  },
  {
   "cell_type": "code",
   "execution_count": null,
   "metadata": {},
   "outputs": [],
   "source": []
  }
 ],
 "metadata": {
  "kernelspec": {
   "display_name": "Python 3",
   "language": "python",
   "name": "python3"
  },
  "language_info": {
   "codemirror_mode": {
    "name": "ipython",
    "version": 3
   },
   "file_extension": ".py",
   "mimetype": "text/x-python",
   "name": "python",
   "nbconvert_exporter": "python",
   "pygments_lexer": "ipython3",
   "version": "3.6.4"
  }
 },
 "nbformat": 4,
 "nbformat_minor": 2
}
